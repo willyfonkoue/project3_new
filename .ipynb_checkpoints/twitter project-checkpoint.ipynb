{
 "cells": [
  {
   "cell_type": "code",
   "execution_count": null,
   "metadata": {},
   "outputs": [],
   "source": [
    "import numpy as np\n",
    "import pandas as pd\n",
    "import seaborn as sns\n",
    "from scipy.stats import skew\n",
    "from pymongo import MongoClient('34.215.106.7', 27016)"
   ]
  },
  {
   "cell_type": "code",
   "execution_count": null,
   "metadata": {},
   "outputs": [],
   "source": [
    "w = open('mongo_access.csv', 'r').readline().split(\",\")\n",
    "ip_adress,port, sample_size = (x[0], int(x[1]), int(x[2]))\n",
    "mongo_client = MongoClient(ip_address,port)\n",
    "database_reference = mongo_client.twitter\n",
    "collection_reference = database_reference.tweets\n",
    "cursor_sampl = collection_reference.aggregate([{'$sample': {'size': 5}}])\n",
    "print(\"number of tweets: {:,}\".format(len(twwt_df)))\n"
   ]
  },
  {
   "cell_type": "code",
   "execution_count": null,
   "metadata": {},
   "outputs": [],
   "source": [
    "tweet_users = list(twt_df['user'])\n",
    "twt_users_df = pd.DataFrame(twt_users)\n",
    "print(twt_users_df.dtypes)\n",
    "tweet_users_df.head()"
   ]
  },
  {
   "cell_type": "code",
   "execution_count": null,
   "metadata": {},
   "outputs": [],
   "source": [
    "skew(tweet_users_df)"
   ]
  },
  {
   "cell_type": "code",
   "execution_count": null,
   "metadata": {},
   "outputs": [],
   "source": [
    "#remove the object types\n",
    "tweet_users_df_no_strings = tweet_users.select_dtypes(exclude = ['object'])\n",
    "tweet_users_df_no_strings.dtypes"
   ]
  },
  {
   "cell_type": "code",
   "execution_count": null,
   "metadata": {},
   "outputs": [],
   "source": [
    "skew(tweet_users_df)"
   ]
  },
  {
   "cell_type": "code",
   "execution_count": null,
   "metadata": {},
   "outputs": [],
   "source": [
    "tweet_users_df_no_strings"
   ]
  },
  {
   "cell_type": "code",
   "execution_count": null,
   "metadata": {},
   "outputs": [],
   "source": [
    "bool_cols = ['default_profile', 'default_profile_image', 'contributors_enable, 'geo_enabled', 'protected', 'profile_use_background_image', ' profile_background_title, ]"
   ]
  },
  {
   "cell_type": "code",
   "execution_count": null,
   "metadata": {},
   "outputs": [],
   "source": [
    "tweet_users_df_no_strings"
   ]
  }
 ],
 "metadata": {
  "kernelspec": {
   "display_name": "Python 3",
   "language": "python",
   "name": "python3"
  },
  "language_info": {
   "codemirror_mode": {
    "name": "ipython",
    "version": 3
   },
   "file_extension": ".py",
   "mimetype": "text/x-python",
   "name": "python",
   "nbconvert_exporter": "python",
   "pygments_lexer": "ipython3",
   "version": "3.6.3"
  }
 },
 "nbformat": 4,
 "nbformat_minor": 2
}
